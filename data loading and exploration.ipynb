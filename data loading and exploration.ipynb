{
 "cells": [
  {
   "cell_type": "markdown",
   "id": "de40ac21",
   "metadata": {},
   "source": [
    "# CAFA5"
   ]
  },
  {
   "cell_type": "markdown",
   "id": "239e4be9",
   "metadata": {},
   "source": [
    "## Data loading"
   ]
  },
  {
   "cell_type": "markdown",
   "id": "5dc44d8a",
   "metadata": {},
   "source": [
    "### Imports"
   ]
  },
  {
   "cell_type": "code",
   "execution_count": 1,
   "id": "e9667a94",
   "metadata": {},
   "outputs": [],
   "source": [
    "import obonet as on\n",
    "import networkx as nx\n",
    "import pandas as pd\n",
    "import numpy as np\n",
    "from Bio import SeqIO"
   ]
  },
  {
   "cell_type": "markdown",
   "id": "aa4a9eee",
   "metadata": {},
   "source": [
    "### Gene ontology"
   ]
  },
  {
   "cell_type": "markdown",
   "id": "7b63dd6d",
   "metadata": {},
   "source": [
    "Use [`obonet`](https://github.com/dhimmel/obonet) and [`networkx`](https://networkx.org/) in order to read the Gene Ontology's [`obo` file](https://owlcollab.github.io/oboformat/doc/GO.format.obo-1_4.html) into a graph object."
   ]
  },
  {
   "cell_type": "code",
   "execution_count": 2,
   "id": "4ff209d3",
   "metadata": {},
   "outputs": [],
   "source": [
    "go = on.read_obo('data/Train/go-basic.obo')\n",
    "bp_root = go.nodes['GO:0008150']\n",
    "cc_root = go.nodes['GO:0005575']\n",
    "mf_root = go.nodes['GO:0003674']"
   ]
  },
  {
   "cell_type": "markdown",
   "id": "bde55bd4",
   "metadata": {},
   "source": [
    "### Train amino acid sequences\n",
    "\n",
    "Use [biopython](https://biopython.org/) to read the training amino acid sequences in [FASTA format](https://en.wikipedia.org/wiki/FASTA_format)."
   ]
  },
  {
   "cell_type": "code",
   "execution_count": 3,
   "id": "04c8fce0",
   "metadata": {},
   "outputs": [],
   "source": [
    "train_seq_records = SeqIO.parse('data/Train/train_sequences.fasta', 'fasta')"
   ]
  },
  {
   "cell_type": "code",
   "execution_count": 4,
   "id": "d44e64fc",
   "metadata": {},
   "outputs": [
    {
     "data": {
      "text/plain": [
       "SeqRecord(seq=Seq('MNSVTVSHAPYTITYHDDWEPVMSQLVEFYNEVASWLLRDETSPIPDKFFIQLK...FIY'), id='P20536', name='P20536', description='P20536 sp|P20536|UNG_VACCC Uracil-DNA glycosylase OS=Vaccinia virus (strain Copenhagen) OX=10249 GN=UNG PE=1 SV=1', dbxrefs=[])"
      ]
     },
     "execution_count": 4,
     "metadata": {},
     "output_type": "execute_result"
    }
   ],
   "source": [
    "next(train_seq_records)"
   ]
  },
  {
   "cell_type": "markdown",
   "id": "4b583d7f",
   "metadata": {},
   "source": [
    "### Train terms\n",
    "\n",
    "Use [pandas](pandas.pydata.org/) to read the `tsv` file. This file maps the UniProt ID to the Gene Ontology ID."
   ]
  },
  {
   "cell_type": "code",
   "execution_count": 5,
   "id": "8633938d",
   "metadata": {},
   "outputs": [],
   "source": [
    "train_terms_df = pd.read_csv('data/Train/train_terms.tsv', sep='\\t')"
   ]
  },
  {
   "cell_type": "code",
   "execution_count": 6,
   "id": "e8b46796",
   "metadata": {},
   "outputs": [
    {
     "data": {
      "text/html": [
       "<div>\n",
       "<style scoped>\n",
       "    .dataframe tbody tr th:only-of-type {\n",
       "        vertical-align: middle;\n",
       "    }\n",
       "\n",
       "    .dataframe tbody tr th {\n",
       "        vertical-align: top;\n",
       "    }\n",
       "\n",
       "    .dataframe thead th {\n",
       "        text-align: right;\n",
       "    }\n",
       "</style>\n",
       "<table border=\"1\" class=\"dataframe\">\n",
       "  <thead>\n",
       "    <tr style=\"text-align: right;\">\n",
       "      <th></th>\n",
       "      <th>EntryID</th>\n",
       "      <th>term</th>\n",
       "      <th>aspect</th>\n",
       "    </tr>\n",
       "  </thead>\n",
       "  <tbody>\n",
       "    <tr>\n",
       "      <th>0</th>\n",
       "      <td>A0A009IHW8</td>\n",
       "      <td>GO:0008152</td>\n",
       "      <td>BPO</td>\n",
       "    </tr>\n",
       "    <tr>\n",
       "      <th>1</th>\n",
       "      <td>A0A009IHW8</td>\n",
       "      <td>GO:0034655</td>\n",
       "      <td>BPO</td>\n",
       "    </tr>\n",
       "    <tr>\n",
       "      <th>2</th>\n",
       "      <td>A0A009IHW8</td>\n",
       "      <td>GO:0072523</td>\n",
       "      <td>BPO</td>\n",
       "    </tr>\n",
       "    <tr>\n",
       "      <th>3</th>\n",
       "      <td>A0A009IHW8</td>\n",
       "      <td>GO:0044270</td>\n",
       "      <td>BPO</td>\n",
       "    </tr>\n",
       "    <tr>\n",
       "      <th>4</th>\n",
       "      <td>A0A009IHW8</td>\n",
       "      <td>GO:0006753</td>\n",
       "      <td>BPO</td>\n",
       "    </tr>\n",
       "  </tbody>\n",
       "</table>\n",
       "</div>"
      ],
      "text/plain": [
       "      EntryID        term aspect\n",
       "0  A0A009IHW8  GO:0008152    BPO\n",
       "1  A0A009IHW8  GO:0034655    BPO\n",
       "2  A0A009IHW8  GO:0072523    BPO\n",
       "3  A0A009IHW8  GO:0044270    BPO\n",
       "4  A0A009IHW8  GO:0006753    BPO"
      ]
     },
     "execution_count": 6,
     "metadata": {},
     "output_type": "execute_result"
    }
   ],
   "source": [
    "train_terms_df.head()"
   ]
  },
  {
   "cell_type": "code",
   "execution_count": 7,
   "id": "d0d62999",
   "metadata": {},
   "outputs": [
    {
     "data": {
      "text/plain": [
       "(5363863, 3)"
      ]
     },
     "execution_count": 7,
     "metadata": {},
     "output_type": "execute_result"
    }
   ],
   "source": [
    "train_terms_df.shape"
   ]
  },
  {
   "cell_type": "markdown",
   "id": "120105f2",
   "metadata": {},
   "source": [
    "### Train taxonomy\n",
    "\n",
    "Use [pandas](pandas.pydata.org/) to read the `tsv` file. This file maps the UniProt ID to the [taxonomy ID](https://www.uniprot.org/help/taxonomic_identifier)."
   ]
  },
  {
   "cell_type": "code",
   "execution_count": 8,
   "id": "86f16ef1",
   "metadata": {},
   "outputs": [],
   "source": [
    "train_taxonomy_df = pd.read_csv('data/Train/train_taxonomy.tsv', sep='\\t')"
   ]
  },
  {
   "cell_type": "code",
   "execution_count": 9,
   "id": "278040f8",
   "metadata": {},
   "outputs": [
    {
     "data": {
      "text/html": [
       "<div>\n",
       "<style scoped>\n",
       "    .dataframe tbody tr th:only-of-type {\n",
       "        vertical-align: middle;\n",
       "    }\n",
       "\n",
       "    .dataframe tbody tr th {\n",
       "        vertical-align: top;\n",
       "    }\n",
       "\n",
       "    .dataframe thead th {\n",
       "        text-align: right;\n",
       "    }\n",
       "</style>\n",
       "<table border=\"1\" class=\"dataframe\">\n",
       "  <thead>\n",
       "    <tr style=\"text-align: right;\">\n",
       "      <th></th>\n",
       "      <th>EntryID</th>\n",
       "      <th>taxonomyID</th>\n",
       "    </tr>\n",
       "  </thead>\n",
       "  <tbody>\n",
       "    <tr>\n",
       "      <th>0</th>\n",
       "      <td>Q8IXT2</td>\n",
       "      <td>9606</td>\n",
       "    </tr>\n",
       "    <tr>\n",
       "      <th>1</th>\n",
       "      <td>Q04418</td>\n",
       "      <td>559292</td>\n",
       "    </tr>\n",
       "    <tr>\n",
       "      <th>2</th>\n",
       "      <td>A8DYA3</td>\n",
       "      <td>7227</td>\n",
       "    </tr>\n",
       "    <tr>\n",
       "      <th>3</th>\n",
       "      <td>Q9UUI3</td>\n",
       "      <td>284812</td>\n",
       "    </tr>\n",
       "    <tr>\n",
       "      <th>4</th>\n",
       "      <td>Q57ZS4</td>\n",
       "      <td>185431</td>\n",
       "    </tr>\n",
       "  </tbody>\n",
       "</table>\n",
       "</div>"
      ],
      "text/plain": [
       "  EntryID  taxonomyID\n",
       "0  Q8IXT2        9606\n",
       "1  Q04418      559292\n",
       "2  A8DYA3        7227\n",
       "3  Q9UUI3      284812\n",
       "4  Q57ZS4      185431"
      ]
     },
     "execution_count": 9,
     "metadata": {},
     "output_type": "execute_result"
    }
   ],
   "source": [
    "train_taxonomy_df.head()"
   ]
  },
  {
   "cell_type": "code",
   "execution_count": 10,
   "id": "0a27d60b",
   "metadata": {},
   "outputs": [
    {
     "data": {
      "text/plain": [
       "(142246, 2)"
      ]
     },
     "execution_count": 10,
     "metadata": {},
     "output_type": "execute_result"
    }
   ],
   "source": [
    "train_taxonomy_df.shape"
   ]
  },
  {
   "cell_type": "markdown",
   "id": "c046b25c",
   "metadata": {},
   "source": [
    "### Information accretion weights\n",
    "\n",
    "Information accretion weights for each GO term. Used to calculate weighted precision and recall for predictions. Use [pandas](pandas.pydata.org/) to read the `txt` file. "
   ]
  },
  {
   "cell_type": "code",
   "execution_count": 11,
   "id": "bbdb6ed7",
   "metadata": {},
   "outputs": [],
   "source": [
    "ia_df = pd.read_csv('data/IA.txt', sep='\\t', header=None)\n",
    "ia_df.columns = ['term', 'IA']"
   ]
  },
  {
   "cell_type": "code",
   "execution_count": 12,
   "id": "7c8fc73f",
   "metadata": {},
   "outputs": [
    {
     "data": {
      "text/html": [
       "<div>\n",
       "<style scoped>\n",
       "    .dataframe tbody tr th:only-of-type {\n",
       "        vertical-align: middle;\n",
       "    }\n",
       "\n",
       "    .dataframe tbody tr th {\n",
       "        vertical-align: top;\n",
       "    }\n",
       "\n",
       "    .dataframe thead th {\n",
       "        text-align: right;\n",
       "    }\n",
       "</style>\n",
       "<table border=\"1\" class=\"dataframe\">\n",
       "  <thead>\n",
       "    <tr style=\"text-align: right;\">\n",
       "      <th></th>\n",
       "      <th>term</th>\n",
       "      <th>IA</th>\n",
       "    </tr>\n",
       "  </thead>\n",
       "  <tbody>\n",
       "    <tr>\n",
       "      <th>0</th>\n",
       "      <td>GO:0000001</td>\n",
       "      <td>0.000000</td>\n",
       "    </tr>\n",
       "    <tr>\n",
       "      <th>1</th>\n",
       "      <td>GO:0000002</td>\n",
       "      <td>3.103836</td>\n",
       "    </tr>\n",
       "    <tr>\n",
       "      <th>2</th>\n",
       "      <td>GO:0000003</td>\n",
       "      <td>3.439404</td>\n",
       "    </tr>\n",
       "    <tr>\n",
       "      <th>3</th>\n",
       "      <td>GO:0000011</td>\n",
       "      <td>0.056584</td>\n",
       "    </tr>\n",
       "    <tr>\n",
       "      <th>4</th>\n",
       "      <td>GO:0000012</td>\n",
       "      <td>6.400377</td>\n",
       "    </tr>\n",
       "  </tbody>\n",
       "</table>\n",
       "</div>"
      ],
      "text/plain": [
       "         term        IA\n",
       "0  GO:0000001  0.000000\n",
       "1  GO:0000002  3.103836\n",
       "2  GO:0000003  3.439404\n",
       "3  GO:0000011  0.056584\n",
       "4  GO:0000012  6.400377"
      ]
     },
     "execution_count": 12,
     "metadata": {},
     "output_type": "execute_result"
    }
   ],
   "source": [
    "ia_df.head()"
   ]
  },
  {
   "cell_type": "code",
   "execution_count": 13,
   "id": "fec92e4a",
   "metadata": {},
   "outputs": [
    {
     "data": {
      "text/plain": [
       "(43248, 2)"
      ]
     },
     "execution_count": 13,
     "metadata": {},
     "output_type": "execute_result"
    }
   ],
   "source": [
    "ia_df.shape"
   ]
  },
  {
   "cell_type": "markdown",
   "id": "b745b5c0",
   "metadata": {},
   "source": [
    "### Merging train taxonomy, terms and IA\n",
    "\n",
    "Into one dataframe."
   ]
  },
  {
   "cell_type": "code",
   "execution_count": 14,
   "id": "7f416f8c",
   "metadata": {},
   "outputs": [],
   "source": [
    "train_df = (train_terms_df\n",
    "            .merge(train_taxonomy_df, on='EntryID')\n",
    "            .merge(ia_df, on='term')\n",
    "            .sort_values(by='EntryID')\n",
    "            .reset_index(drop=True))"
   ]
  },
  {
   "cell_type": "code",
   "execution_count": 15,
   "id": "504b1b02",
   "metadata": {},
   "outputs": [],
   "source": [
    "train_df.to_csv('data/Train/train_merged.csv')"
   ]
  },
  {
   "cell_type": "code",
   "execution_count": 16,
   "id": "fb23c560",
   "metadata": {},
   "outputs": [
    {
     "data": {
      "text/html": [
       "<div>\n",
       "<style scoped>\n",
       "    .dataframe tbody tr th:only-of-type {\n",
       "        vertical-align: middle;\n",
       "    }\n",
       "\n",
       "    .dataframe tbody tr th {\n",
       "        vertical-align: top;\n",
       "    }\n",
       "\n",
       "    .dataframe thead th {\n",
       "        text-align: right;\n",
       "    }\n",
       "</style>\n",
       "<table border=\"1\" class=\"dataframe\">\n",
       "  <thead>\n",
       "    <tr style=\"text-align: right;\">\n",
       "      <th></th>\n",
       "      <th>EntryID</th>\n",
       "      <th>term</th>\n",
       "      <th>aspect</th>\n",
       "      <th>taxonomyID</th>\n",
       "      <th>IA</th>\n",
       "    </tr>\n",
       "  </thead>\n",
       "  <tbody>\n",
       "    <tr>\n",
       "      <th>0</th>\n",
       "      <td>A0A009IHW8</td>\n",
       "      <td>GO:0008152</td>\n",
       "      <td>BPO</td>\n",
       "      <td>1310613</td>\n",
       "      <td>1.598544</td>\n",
       "    </tr>\n",
       "    <tr>\n",
       "      <th>1</th>\n",
       "      <td>A0A009IHW8</td>\n",
       "      <td>GO:0072526</td>\n",
       "      <td>BPO</td>\n",
       "      <td>1310613</td>\n",
       "      <td>0.236067</td>\n",
       "    </tr>\n",
       "    <tr>\n",
       "      <th>2</th>\n",
       "      <td>A0A009IHW8</td>\n",
       "      <td>GO:0046434</td>\n",
       "      <td>BPO</td>\n",
       "      <td>1310613</td>\n",
       "      <td>0.936742</td>\n",
       "    </tr>\n",
       "    <tr>\n",
       "      <th>3</th>\n",
       "      <td>A0A009IHW8</td>\n",
       "      <td>GO:0006796</td>\n",
       "      <td>BPO</td>\n",
       "      <td>1310613</td>\n",
       "      <td>0.037438</td>\n",
       "    </tr>\n",
       "    <tr>\n",
       "      <th>4</th>\n",
       "      <td>A0A009IHW8</td>\n",
       "      <td>GO:0009166</td>\n",
       "      <td>BPO</td>\n",
       "      <td>1310613</td>\n",
       "      <td>0.025995</td>\n",
       "    </tr>\n",
       "  </tbody>\n",
       "</table>\n",
       "</div>"
      ],
      "text/plain": [
       "      EntryID        term aspect  taxonomyID        IA\n",
       "0  A0A009IHW8  GO:0008152    BPO     1310613  1.598544\n",
       "1  A0A009IHW8  GO:0072526    BPO     1310613  0.236067\n",
       "2  A0A009IHW8  GO:0046434    BPO     1310613  0.936742\n",
       "3  A0A009IHW8  GO:0006796    BPO     1310613  0.037438\n",
       "4  A0A009IHW8  GO:0009166    BPO     1310613  0.025995"
      ]
     },
     "execution_count": 16,
     "metadata": {},
     "output_type": "execute_result"
    }
   ],
   "source": [
    "train_df.head()"
   ]
  },
  {
   "cell_type": "code",
   "execution_count": 17,
   "id": "b245696b",
   "metadata": {},
   "outputs": [
    {
     "data": {
      "text/plain": [
       "(5363863, 5)"
      ]
     },
     "execution_count": 17,
     "metadata": {},
     "output_type": "execute_result"
    }
   ],
   "source": [
    "train_df.shape"
   ]
  },
  {
   "cell_type": "markdown",
   "id": "fb3615fb",
   "metadata": {},
   "source": [
    "### Test amino acid sequences"
   ]
  },
  {
   "cell_type": "code",
   "execution_count": 18,
   "id": "8dd3e0b4",
   "metadata": {},
   "outputs": [],
   "source": [
    "test_seq_records = SeqIO.parse('data/Test (Targets)/testsuperset.fasta', format='fasta')"
   ]
  },
  {
   "cell_type": "code",
   "execution_count": 19,
   "id": "cc09b6d2",
   "metadata": {},
   "outputs": [
    {
     "data": {
      "text/plain": [
       "SeqRecord(seq=Seq('MTMDKSELVQKAKLAEQAERYDDMAAAMKAVTEQGHELSNEERNLLSVAYKNVV...GEN'), id='Q9CQV8', name='Q9CQV8', description='Q9CQV8\\t10090', dbxrefs=[])"
      ]
     },
     "execution_count": 19,
     "metadata": {},
     "output_type": "execute_result"
    }
   ],
   "source": [
    "next(test_seq_records)"
   ]
  },
  {
   "cell_type": "markdown",
   "id": "7a05c09a",
   "metadata": {},
   "source": [
    "### Taxon list"
   ]
  },
  {
   "cell_type": "code",
   "execution_count": 20,
   "id": "989e6631",
   "metadata": {},
   "outputs": [],
   "source": [
    "test_taxon_df = pd.read_csv('data/Test (Targets)/testsuperset-taxon-list.tsv', sep='\\t', encoding='ISO-8859-1')"
   ]
  },
  {
   "cell_type": "code",
   "execution_count": 21,
   "id": "5784e62c",
   "metadata": {},
   "outputs": [
    {
     "data": {
      "text/html": [
       "<div>\n",
       "<style scoped>\n",
       "    .dataframe tbody tr th:only-of-type {\n",
       "        vertical-align: middle;\n",
       "    }\n",
       "\n",
       "    .dataframe tbody tr th {\n",
       "        vertical-align: top;\n",
       "    }\n",
       "\n",
       "    .dataframe thead th {\n",
       "        text-align: right;\n",
       "    }\n",
       "</style>\n",
       "<table border=\"1\" class=\"dataframe\">\n",
       "  <thead>\n",
       "    <tr style=\"text-align: right;\">\n",
       "      <th></th>\n",
       "      <th>ID</th>\n",
       "      <th>Species</th>\n",
       "    </tr>\n",
       "  </thead>\n",
       "  <tbody>\n",
       "    <tr>\n",
       "      <th>0</th>\n",
       "      <td>9606</td>\n",
       "      <td>homo sapiens[All Names]</td>\n",
       "    </tr>\n",
       "    <tr>\n",
       "      <th>1</th>\n",
       "      <td>10090</td>\n",
       "      <td>mus musculus[All Names]</td>\n",
       "    </tr>\n",
       "    <tr>\n",
       "      <th>2</th>\n",
       "      <td>10116</td>\n",
       "      <td>Rattus norvegicus</td>\n",
       "    </tr>\n",
       "    <tr>\n",
       "      <th>3</th>\n",
       "      <td>3702</td>\n",
       "      <td>Arabidopsis thaliana[All Names]</td>\n",
       "    </tr>\n",
       "    <tr>\n",
       "      <th>4</th>\n",
       "      <td>83333</td>\n",
       "      <td>Escherichia coli K-12[all names]</td>\n",
       "    </tr>\n",
       "  </tbody>\n",
       "</table>\n",
       "</div>"
      ],
      "text/plain": [
       "      ID                           Species\n",
       "0   9606           homo sapiens[All Names]\n",
       "1  10090           mus musculus[All Names]\n",
       "2  10116                 Rattus norvegicus\n",
       "3   3702   Arabidopsis thaliana[All Names]\n",
       "4  83333  Escherichia coli K-12[all names]"
      ]
     },
     "execution_count": 21,
     "metadata": {},
     "output_type": "execute_result"
    }
   ],
   "source": [
    "test_taxon_df.head()"
   ]
  },
  {
   "cell_type": "code",
   "execution_count": 22,
   "id": "00dab122",
   "metadata": {},
   "outputs": [
    {
     "data": {
      "text/plain": [
       "(90, 2)"
      ]
     },
     "execution_count": 22,
     "metadata": {},
     "output_type": "execute_result"
    }
   ],
   "source": [
    "test_taxon_df.shape"
   ]
  },
  {
   "cell_type": "markdown",
   "id": "ecf8c411",
   "metadata": {},
   "source": [
    "## Exploratory data analysis"
   ]
  },
  {
   "cell_type": "markdown",
   "id": "ca75c4b0",
   "metadata": {},
   "source": [
    "Let's look at the distribution of how often a GO term comes up."
   ]
  },
  {
   "cell_type": "code",
   "execution_count": 23,
   "id": "8f09ddf3",
   "metadata": {},
   "outputs": [],
   "source": [
    "term_counts = train_df['term'].value_counts()"
   ]
  },
  {
   "cell_type": "code",
   "execution_count": 24,
   "id": "971f80cb",
   "metadata": {},
   "outputs": [
    {
     "data": {
      "text/plain": [
       "<Axes: title={'center': 'Term counts'}, xlabel='Term rank', ylabel='Occurences'>"
      ]
     },
     "execution_count": 24,
     "metadata": {},
     "output_type": "execute_result"
    },
    {
     "data": {
      "image/png": "[encoded data removed]",
      "text/plain": [
       "<Figure size 640x480 with 1 Axes>"
      ]
     },
     "metadata": {},
     "output_type": "display_data"
    }
   ],
   "source": [
    "term_counts.reset_index(drop=True).plot.line(logy=False, title='Term counts', xlabel='Term rank', ylabel='Occurences')"
   ]
  },
  {
   "cell_type": "code",
   "execution_count": 25,
   "id": "ae1bd9e6",
   "metadata": {},
   "outputs": [
    {
     "data": {
      "text/plain": [
       "<Axes: title={'center': 'Lorenz curve (unweighted)'}, xlabel='Fraction of terms', ylabel='Fraction of usages'>"
      ]
     },
     "execution_count": 25,
     "metadata": {},
     "output_type": "execute_result"
    },
    {
     "data": {
      "image/png": "[encoded data removed]",
      "text/plain": [
       "<Figure size 640x480 with 1 Axes>"
      ]
     },
     "metadata": {},
     "output_type": "display_data"
    }
   ],
   "source": [
    "unweighted_pareto = (term_counts\n",
    "                     .sort_values(ascending=True)\n",
    "                     .cumsum()) / term_counts.sum()\n",
    "unweighted_pareto.index = np.linspace(0, 1, len(unweighted_pareto))\n",
    "unweighted_pareto.plot.line(\n",
    "    xlabel='Fraction of terms', \n",
    "    ylabel='Fraction of usages', \n",
    "    title='Lorenz curve (unweighted)', \n",
    ")"
   ]
  },
  {
   "cell_type": "markdown",
   "id": "83c5594d",
   "metadata": {},
   "source": [
    "The Gini coefficient of this Lorenz curve is:"
   ]
  },
  {
   "cell_type": "code",
   "execution_count": 26,
   "id": "1a005d92",
   "metadata": {},
   "outputs": [
    {
     "data": {
      "text/plain": [
       "0.926"
      ]
     },
     "execution_count": 26,
     "metadata": {},
     "output_type": "execute_result"
    }
   ],
   "source": [
    "round(sum([(i - v)/len(unweighted_pareto) for (i, v) in unweighted_pareto.items()]) / 0.5, 3)"
   ]
  },
  {
   "cell_type": "code",
   "execution_count": 27,
   "id": "daf8bcdd",
   "metadata": {},
   "outputs": [],
   "source": [
    "term_counts_df = term_counts.reset_index()\n",
    "term_counts_df.columns = ['term', 'count']\n",
    "term_counts_df = term_counts_df.merge(ia_df, on='term')\n",
    "term_counts_df['weighted_count'] = term_counts_df['count'] * term_counts_df['IA']\n",
    "term_counts_df = term_counts_df.sort_values('weighted_count', ascending=False).reset_index(drop=True)\n",
    "weighted_pareto = (term_counts_df['weighted_count']\n",
    "                   .sort_values()\n",
    "                   .reset_index(drop=True)\n",
    "                   .cumsum()) / term_counts_df['weighted_count'].sum()\n",
    "weighted_pareto.index = np.linspace(0, 1, len(weighted_pareto))"
   ]
  },
  {
   "cell_type": "code",
   "execution_count": 28,
   "id": "90ab2199",
   "metadata": {},
   "outputs": [
    {
     "data": {
      "text/html": [
       "<div>\n",
       "<style scoped>\n",
       "    .dataframe tbody tr th:only-of-type {\n",
       "        vertical-align: middle;\n",
       "    }\n",
       "\n",
       "    .dataframe tbody tr th {\n",
       "        vertical-align: top;\n",
       "    }\n",
       "\n",
       "    .dataframe thead th {\n",
       "        text-align: right;\n",
       "    }\n",
       "</style>\n",
       "<table border=\"1\" class=\"dataframe\">\n",
       "  <thead>\n",
       "    <tr style=\"text-align: right;\">\n",
       "      <th></th>\n",
       "      <th>term</th>\n",
       "      <th>count</th>\n",
       "      <th>IA</th>\n",
       "      <th>weighted_count</th>\n",
       "    </tr>\n",
       "  </thead>\n",
       "  <tbody>\n",
       "    <tr>\n",
       "      <th>0</th>\n",
       "      <td>GO:0050896</td>\n",
       "      <td>31098</td>\n",
       "      <td>1.568071</td>\n",
       "      <td>48763.861747</td>\n",
       "    </tr>\n",
       "    <tr>\n",
       "      <th>1</th>\n",
       "      <td>GO:0008152</td>\n",
       "      <td>30448</td>\n",
       "      <td>1.598544</td>\n",
       "      <td>48672.468143</td>\n",
       "    </tr>\n",
       "    <tr>\n",
       "      <th>2</th>\n",
       "      <td>GO:0032501</td>\n",
       "      <td>29274</td>\n",
       "      <td>1.655270</td>\n",
       "      <td>48456.364953</td>\n",
       "    </tr>\n",
       "    <tr>\n",
       "      <th>3</th>\n",
       "      <td>GO:0032502</td>\n",
       "      <td>28680</td>\n",
       "      <td>1.684844</td>\n",
       "      <td>48321.312613</td>\n",
       "    </tr>\n",
       "    <tr>\n",
       "      <th>4</th>\n",
       "      <td>GO:0065007</td>\n",
       "      <td>41457</td>\n",
       "      <td>1.153288</td>\n",
       "      <td>47811.874800</td>\n",
       "    </tr>\n",
       "  </tbody>\n",
       "</table>\n",
       "</div>"
      ],
      "text/plain": [
       "         term  count        IA  weighted_count\n",
       "0  GO:0050896  31098  1.568071    48763.861747\n",
       "1  GO:0008152  30448  1.598544    48672.468143\n",
       "2  GO:0032501  29274  1.655270    48456.364953\n",
       "3  GO:0032502  28680  1.684844    48321.312613\n",
       "4  GO:0065007  41457  1.153288    47811.874800"
      ]
     },
     "execution_count": 28,
     "metadata": {},
     "output_type": "execute_result"
    }
   ],
   "source": [
    "term_counts_df.head()"
   ]
  },
  {
   "cell_type": "code",
   "execution_count": 29,
   "id": "66cc4658",
   "metadata": {},
   "outputs": [
    {
     "data": {
      "text/plain": [
       "<Axes: title={'center': 'Lorenz curve (weighted)'}, xlabel='Fraction of terms', ylabel='Fraction of weighted usages'>"
      ]
     },
     "execution_count": 29,
     "metadata": {},
     "output_type": "execute_result"
    },
    {
     "data": {
      "image/png": "[encoded data removed]",
      "text/plain": [
       "<Figure size 640x480 with 1 Axes>"
      ]
     },
     "metadata": {},
     "output_type": "display_data"
    }
   ],
   "source": [
    "weighted_pareto.plot.line(\n",
    "    xlabel='Fraction of terms', \n",
    "    ylabel='Fraction of weighted usages', \n",
    "    title='Lorenz curve (weighted)', \n",
    ")"
   ]
  },
  {
   "cell_type": "markdown",
   "id": "e9136079",
   "metadata": {},
   "source": [
    "Gini coefficient of the Lorenz curve of the IA-weighted counts."
   ]
  },
  {
   "cell_type": "code",
   "execution_count": 30,
   "id": "8b9a7be6",
   "metadata": {},
   "outputs": [
    {
     "data": {
      "text/plain": [
       "0.929"
      ]
     },
     "execution_count": 30,
     "metadata": {},
     "output_type": "execute_result"
    }
   ],
   "source": [
    "round(sum([(i - v)/len(weighted_pareto) for (i, v) in weighted_pareto.items()]) / 0.5, 3)"
   ]
  },
  {
   "cell_type": "markdown",
   "id": "96a0a976",
   "metadata": {},
   "source": [
    "Higher than the unweighted counts!"
   ]
  }
 ],
 "metadata": {
  "kernelspec": {
   "display_name": "Python 3 (ipykernel)",
   "language": "python",
   "name": "python3"
  },
  "language_info": {
   "codemirror_mode": {
    "name": "ipython",
    "version": 3
   },
   "file_extension": ".py",
   "mimetype": "text/x-python",
   "name": "python",
   "nbconvert_exporter": "python",
   "pygments_lexer": "ipython3",
   "version": "3.11.3"
  }
 },
 "nbformat": 4,
 "nbformat_minor": 5
}
